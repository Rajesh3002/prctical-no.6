{
  "nbformat": 4,
  "nbformat_minor": 0,
  "metadata": {
    "colab": {
      "name": "practical 6.ipynb",
      "provenance": []
    },
    "kernelspec": {
      "name": "python3",
      "display_name": "Python 3"
    },
    "language_info": {
      "name": "python"
    }
  },
  "cells": [
    {
      "cell_type": "markdown",
      "source": [
        "write a program to demonstrate working with tuples in python"
      ],
      "metadata": {
        "id": "mpep5IeVfKlo"
      }
    },
    {
      "cell_type": "code",
      "source": [
        "A = (\"HP\", \"DELL\", \"APPLE\",\"ASUS\",\"LENOVO\",\"MICROSOFT\",\"ACER\")\n",
        "print(\"\\n Created tuple is :\",A)\n",
        "print(\"\\n Second fruit is :\",A[1])\n",
        "print(\"\\n From 3-6 fruits are :\",A[3:7])\n",
        "print(\"\\n List of all items in Tuple :\")\n",
        "for x in A:\n",
        "  print(x)\n",
        "if \"apple\" in A:\n",
        "  print(\"\\n Yes, 'apple' is in the fruits tuple\")\n",
        "print(\"\\n Length of Tuple is :\",len(A))"
      ],
      "metadata": {
        "colab": {
          "base_uri": "https://localhost:8080/"
        },
        "id": "VUKKORVZfNz_",
        "outputId": "650dea64-8964-4660-ecde-2635d146d1de"
      },
      "execution_count": 4,
      "outputs": [
        {
          "output_type": "stream",
          "name": "stdout",
          "text": [
            "\n",
            " Created tuple is : ('HP', 'DELL', 'APPLE', 'ASUS', 'LENOVO', 'MICROSOFT', 'ACER')\n",
            "\n",
            " Second fruit is : DELL\n",
            "\n",
            " From 3-6 fruits are : ('ASUS', 'LENOVO', 'MICROSOFT', 'ACER')\n",
            "\n",
            " List of all items in Tuple :\n",
            "HP\n",
            "DELL\n",
            "APPLE\n",
            "ASUS\n",
            "LENOVO\n",
            "MICROSOFT\n",
            "ACER\n",
            "\n",
            " Length of Tuple is : 7\n"
          ]
        }
      ]
    }
  ]
}